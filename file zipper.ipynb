{
 "cells": [
  {
   "cell_type": "code",
   "execution_count": null,
   "id": "cff7ff74",
   "metadata": {},
   "outputs": [
    {
     "name": "stdout",
     "output_type": "stream",
     "text": [
      "File Zipper Mini Project\n",
      "1. Zip Files\n",
      "2. Unzip Files\n",
      "Enter your choice: 1\n"
     ]
    }
   ],
   "source": [
    "import zipfile\n",
    "import os\n",
    "\n",
    "def zip_files(directory_path, zip_name):\n",
    "    with zipfile.ZipFile(zip_name, 'w') as zipf:\n",
    "        for folder, subfolders, files in os.walk(directory_path):\n",
    "            for file in files:\n",
    "                zipf.write(os.path.join(folder, file), os.path.relpath(os.path.join(folder,file), directory_path))\n",
    "\n",
    "def unzip_file(zip_name, extract_folder):\n",
    "    with zipfile.ZipFile(zip_name, 'r') as zipf:\n",
    "        zipf.extractall(extract_folder)\n",
    "\n",
    "def main():\n",
    "    print(\"File Zipper Mini Project\")\n",
    "    print(\"1. Zip Files\")\n",
    "    print(\"2. Unzip Files\")\n",
    "    choice = input(\"Enter your choice: \")\n",
    "\n",
    "    if choice == '1':\n",
    "        directory_path = input(\"Enter the directory path to zip: \")\n",
    "        zip_name = input(\"Enter the name of the zip file: \")\n",
    "        zip_files(directory_path, zip_name)\n",
    "        print(f\"Files zipped successfully into {zip_name}\")\n",
    "\n",
    "    elif choice == '2':\n",
    "        zip_name = input(\"Enter the name of the zip file to extract: \")\n",
    "        extract_folder = input(\"Enter the folder to extract files: \")\n",
    "        unzip_file(zip_name, extract_folder)\n",
    "        print(f\"Files extracted successfully to {extract_folder}\")\n",
    "\n",
    "    else:\n",
    "        print(\"Invalid choice. Please enter 1 or 2.\")\n",
    "\n",
    "if __name__ == \"__main__\":\n",
    "    main()\n"
   ]
  },
  {
   "cell_type": "code",
   "execution_count": null,
   "id": "f12fa821",
   "metadata": {},
   "outputs": [],
   "source": []
  }
 ],
 "metadata": {
  "kernelspec": {
   "display_name": "Python 3 (ipykernel)",
   "language": "python",
   "name": "python3"
  },
  "language_info": {
   "codemirror_mode": {
    "name": "ipython",
    "version": 3
   },
   "file_extension": ".py",
   "mimetype": "text/x-python",
   "name": "python",
   "nbconvert_exporter": "python",
   "pygments_lexer": "ipython3",
   "version": "3.11.5"
  }
 },
 "nbformat": 4,
 "nbformat_minor": 5
}
